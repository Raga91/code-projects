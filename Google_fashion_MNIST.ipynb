{
  "nbformat": 4,
  "nbformat_minor": 0,
  "metadata": {
    "colab": {
      "provenance": [],
      "authorship_tag": "ABX9TyN0PPI0bMZz3jUB08LNPusC",
      "include_colab_link": true
    },
    "kernelspec": {
      "name": "python3",
      "display_name": "Python 3"
    },
    "language_info": {
      "name": "python"
    }
  },
  "cells": [
    {
      "cell_type": "markdown",
      "metadata": {
        "id": "view-in-github",
        "colab_type": "text"
      },
      "source": [
        "<a href=\"https://colab.research.google.com/github/Raga91/code-projects/blob/main/Google_fashion_MNIST.ipynb\" target=\"_parent\"><img src=\"https://colab.research.google.com/assets/colab-badge.svg\" alt=\"Open In Colab\"/></a>"
      ]
    },
    {
      "cell_type": "code",
      "execution_count": null,
      "metadata": {
        "colab": {
          "base_uri": "https://localhost:8080/",
          "height": 35
        },
        "id": "MDoBwoQXyt3x",
        "outputId": "97164368-9d23-4aae-cee1-498d9e1cf7fb"
      },
      "outputs": [
        {
          "output_type": "execute_result",
          "data": {
            "text/plain": [
              "'/content'"
            ],
            "application/vnd.google.colaboratory.intrinsic+json": {
              "type": "string"
            }
          },
          "metadata": {},
          "execution_count": 1
        }
      ],
      "source": [
        "# prompt: find working directory\n",
        "\n",
        "import os\n",
        "os.getcwd()\n"
      ]
    },
    {
      "cell_type": "code",
      "source": [
        "import tensorflow as tf"
      ],
      "metadata": {
        "id": "ilneLGZnzE-u"
      },
      "execution_count": null,
      "outputs": []
    },
    {
      "cell_type": "code",
      "source": [
        "import numpy as np\n",
        "import matplotlib.pyplot as plt"
      ],
      "metadata": {
        "id": "UyMUcTDfzIBO"
      },
      "execution_count": null,
      "outputs": []
    },
    {
      "cell_type": "code",
      "source": [
        "mnist = tf.keras.datasets.fashion_mnist"
      ],
      "metadata": {
        "id": "XBj2lQVszOvx"
      },
      "execution_count": null,
      "outputs": []
    },
    {
      "cell_type": "code",
      "source": [
        "(training_images, training_labels), (test_images,test_labels) = mnist.load_data()"
      ],
      "metadata": {
        "colab": {
          "base_uri": "https://localhost:8080/"
        },
        "id": "vwe1OgVTzcIe",
        "outputId": "5fe4d9a4-c303-417e-a017-38277e3bfdbe"
      },
      "execution_count": null,
      "outputs": [
        {
          "output_type": "stream",
          "name": "stdout",
          "text": [
            "Downloading data from https://storage.googleapis.com/tensorflow/tf-keras-datasets/train-labels-idx1-ubyte.gz\n",
            "\u001b[1m29515/29515\u001b[0m \u001b[32m━━━━━━━━━━━━━━━━━━━━\u001b[0m\u001b[37m\u001b[0m \u001b[1m0s\u001b[0m 0us/step\n",
            "Downloading data from https://storage.googleapis.com/tensorflow/tf-keras-datasets/train-images-idx3-ubyte.gz\n",
            "\u001b[1m26421880/26421880\u001b[0m \u001b[32m━━━━━━━━━━━━━━━━━━━━\u001b[0m\u001b[37m\u001b[0m \u001b[1m1s\u001b[0m 0us/step\n",
            "Downloading data from https://storage.googleapis.com/tensorflow/tf-keras-datasets/t10k-labels-idx1-ubyte.gz\n",
            "\u001b[1m5148/5148\u001b[0m \u001b[32m━━━━━━━━━━━━━━━━━━━━\u001b[0m\u001b[37m\u001b[0m \u001b[1m0s\u001b[0m 1us/step\n",
            "Downloading data from https://storage.googleapis.com/tensorflow/tf-keras-datasets/t10k-images-idx3-ubyte.gz\n",
            "\u001b[1m4422102/4422102\u001b[0m \u001b[32m━━━━━━━━━━━━━━━━━━━━\u001b[0m\u001b[37m\u001b[0m \u001b[1m1s\u001b[0m 0us/step\n"
          ]
        }
      ]
    },
    {
      "cell_type": "code",
      "source": [
        "training_images.shape"
      ],
      "metadata": {
        "colab": {
          "base_uri": "https://localhost:8080/"
        },
        "id": "1oLoxXvYznif",
        "outputId": "13a5b07f-9553-424c-de43-7597a3056070"
      },
      "execution_count": null,
      "outputs": [
        {
          "output_type": "execute_result",
          "data": {
            "text/plain": [
              "(60000, 28, 28)"
            ]
          },
          "metadata": {},
          "execution_count": 12
        }
      ]
    },
    {
      "cell_type": "code",
      "source": [
        "training_labels.shape"
      ],
      "metadata": {
        "colab": {
          "base_uri": "https://localhost:8080/"
        },
        "id": "pcpp6ShyzvK4",
        "outputId": "646ef47b-bd50-42ad-abba-4aafbb9f7d2c"
      },
      "execution_count": null,
      "outputs": [
        {
          "output_type": "execute_result",
          "data": {
            "text/plain": [
              "(60000,)"
            ]
          },
          "metadata": {},
          "execution_count": 13
        }
      ]
    },
    {
      "cell_type": "code",
      "source": [
        "plt.imshow(training_images[1])\n",
        "print(training_labels[1])\n",
        "print(training_images[1])"
      ],
      "metadata": {
        "colab": {
          "base_uri": "https://localhost:8080/",
          "height": 1000
        },
        "id": "IVkCp1LRzy2Q",
        "outputId": "c75ebf83-1f7b-4810-b7d2-f2abfa0c1cb4"
      },
      "execution_count": null,
      "outputs": [
        {
          "output_type": "stream",
          "name": "stdout",
          "text": [
            "0\n",
            "[[  0   0   0   0   0   1   0   0   0   0  41 188 103  54  48  43  87 168\n",
            "  133  16   0   0   0   0   0   0   0   0]\n",
            " [  0   0   0   1   0   0   0  49 136 219 216 228 236 255 255 255 255 217\n",
            "  215 254 231 160  45   0   0   0   0   0]\n",
            " [  0   0   0   0   0  14 176 222 224 212 203 198 196 200 215 204 202 201\n",
            "  201 201 209 218 224 164   0   0   0   0]\n",
            " [  0   0   0   0   0 188 219 200 198 202 198 199 199 201 196 198 198 200\n",
            "  200 200 200 201 200 225  41   0   0   0]\n",
            " [  0   0   0   0  51 219 199 203 203 212 238 248 250 245 249 246 247 252\n",
            "  248 235 207 203 203 222 140   0   0   0]\n",
            " [  0   0   0   0 116 226 206 204 207 204 101  75  47  73  48  50  45  51\n",
            "   63 113 222 202 206 220 224   0   0   0]\n",
            " [  0   0   0   0 200 222 209 203 215 200   0  70  98   0 103  59  68  71\n",
            "   49   0 219 206 214 210 250  38   0   0]\n",
            " [  0   0   0   0 247 218 212 210 215 214   0 254 243 139 255 174 251 255\n",
            "  205   0 215 217 214 208 220  95   0   0]\n",
            " [  0   0   0  45 226 214 214 215 224 205   0  42  35  60  16  17  12  13\n",
            "   70   0 189 216 212 206 212 156   0   0]\n",
            " [  0   0   0 164 235 214 211 220 216 201  52  71  89  94  83  78  70  76\n",
            "   92  87 206 207 222 213 219 208   0   0]\n",
            " [  0   0   0 106 187 223 237 248 211 198 252 250 248 245 248 252 253 250\n",
            "  252 239 201 212 225 215 193 113   0   0]\n",
            " [  0   0   0   0   0  17  54 159 222 193 208 192 197 200 200 200 200 201\n",
            "  203 195 210 165   0   0   0   0   0   0]\n",
            " [  0   0   0   0   0   0   0  47 225 192 214 203 206 204 204 205 206 204\n",
            "  212 197 218 107   0   0   0   0   0   0]\n",
            " [  0   0   0   0   1   6   0  46 212 195 212 202 206 205 204 205 206 204\n",
            "  212 200 218  91   0   3   1   0   0   0]\n",
            " [  0   0   0   0   0   1   0  11 197 199 205 202 205 206 204 205 207 204\n",
            "  205 205 218  77   0   5   0   0   0   0]\n",
            " [  0   0   0   0   0   3   0   2 191 198 201 205 206 205 205 206 209 206\n",
            "  199 209 219  74   0   5   0   0   0   0]\n",
            " [  0   0   0   0   0   2   0   0 188 197 200 207 207 204 207 207 210 208\n",
            "  198 207 221  72   0   4   0   0   0   0]\n",
            " [  0   0   0   0   0   2   0   0 215 198 203 206 208 205 207 207 210 208\n",
            "  200 202 222  75   0   4   0   0   0   0]\n",
            " [  0   0   0   0   0   1   0   0 212 198 209 206 209 206 208 207 211 206\n",
            "  205 198 221  80   0   3   0   0   0   0]\n",
            " [  0   0   0   0   0   1   0   0 204 201 205 208 207 205 211 205 210 210\n",
            "  209 195 221  96   0   3   0   0   0   0]\n",
            " [  0   0   0   0   0   1   0   0 202 201 205 209 207 205 213 206 210 209\n",
            "  210 194 217 105   0   2   0   0   0   0]\n",
            " [  0   0   0   0   0   1   0   0 204 204 205 208 207 205 215 207 210 208\n",
            "  211 193 213 115   0   2   0   0   0   0]\n",
            " [  0   0   0   0   0   0   0   0 204 207 207 208 206 206 215 210 210 207\n",
            "  212 195 210 118   0   2   0   0   0   0]\n",
            " [  0   0   0   0   0   1   0   0 198 208 208 208 204 207 212 212 210 207\n",
            "  211 196 207 121   0   1   0   0   0   0]\n",
            " [  0   0   0   0   0   1   0   0 198 210 207 208 206 209 213 212 211 207\n",
            "  210 197 207 124   0   1   0   0   0   0]\n",
            " [  0   0   0   0   0   0   0   0 172 210 203 201 199 204 207 205 204 201\n",
            "  205 197 206 127   0   0   0   0   0   0]\n",
            " [  0   0   0   0   0   0   0   0 188 221 214 234 236 238 244 244 244 240\n",
            "  243 214 224 162   0   2   0   0   0   0]\n",
            " [  0   0   0   0   0   1   0   0 139 146 130 135 135 137 125 124 125 121\n",
            "  119 114 130  76   0   0   0   0   0   0]]\n"
          ]
        },
        {
          "output_type": "display_data",
          "data": {
            "text/plain": [
              "<Figure size 640x480 with 1 Axes>"
            ],
            "image/png": "[encoded data removed]"
          },
          "metadata": {}
        }
      ]
    },
    {
      "cell_type": "code",
      "source": [
        "training_images = training_images / 255.0\n",
        "test_images = test_images / 255.0"
      ],
      "metadata": {
        "id": "2bpiF62_z63f"
      },
      "execution_count": null,
      "outputs": []
    },
    {
      "cell_type": "code",
      "source": [
        "from tensorflow import  keras\n",
        "from tensorflow.keras import Sequential"
      ],
      "metadata": {
        "id": "VJUD8e-q0dn2"
      },
      "execution_count": null,
      "outputs": []
    },
    {
      "cell_type": "code",
      "source": [
        "from tensorflow.keras.layers import Dense, Flatten"
      ],
      "metadata": {
        "id": "0lYDiXqc0_ph"
      },
      "execution_count": null,
      "outputs": []
    },
    {
      "cell_type": "code",
      "source": [
        "model = Sequential([\n",
        "    Flatten(input_shape=(28,28)),\n",
        "    Dense(128,activation = 'relu'),\n",
        "    Dense(10, activation = 'softmax')\n",
        "])"
      ],
      "metadata": {
        "id": "egIsUwi81PHw"
      },
      "execution_count": null,
      "outputs": []
    },
    {
      "cell_type": "code",
      "source": [
        "model.summary()"
      ],
      "metadata": {
        "colab": {
          "base_uri": "https://localhost:8080/",
          "height": 225
        },
        "id": "HMeHyBXU10Vw",
        "outputId": "25f209db-b55a-4163-e561-d9b68eda365e"
      },
      "execution_count": null,
      "outputs": [
        {
          "output_type": "display_data",
          "data": {
            "text/plain": [
              "\u001b[1mModel: \"sequential\"\u001b[0m\n"
            ],
            "text/html": [
              "<pre style=\"white-space:pre;overflow-x:auto;line-height:normal;font-family:Menlo,'DejaVu Sans Mono',consolas,'Courier New',monospace\"><span style=\"font-weight: bold\">Model: \"sequential\"</span>\n",
              "</pre>\n"
            ]
          },
          "metadata": {}
        },
        {
          "output_type": "display_data",
          "data": {
            "text/plain": [
              "┏━━━━━━━━━━━━━━━━━━━━━━━━━━━━━━━━━━━━━━┳━━━━━━━━━━━━━━━━━━━━━━━━━━━━━┳━━━━━━━━━━━━━━━━━┓\n",
              "┃\u001b[1m \u001b[0m\u001b[1mLayer (type)                        \u001b[0m\u001b[1m \u001b[0m┃\u001b[1m \u001b[0m\u001b[1mOutput Shape               \u001b[0m\u001b[1m \u001b[0m┃\u001b[1m \u001b[0m\u001b[1m        Param #\u001b[0m\u001b[1m \u001b[0m┃\n",
              "┡━━━━━━━━━━━━━━━━━━━━━━━━━━━━━━━━━━━━━━╇━━━━━━━━━━━━━━━━━━━━━━━━━━━━━╇━━━━━━━━━━━━━━━━━┩\n",
              "│ flatten_1 (\u001b[38;5;33mFlatten\u001b[0m)                  │ (\u001b[38;5;45mNone\u001b[0m, \u001b[38;5;34m784\u001b[0m)                 │               \u001b[38;5;34m0\u001b[0m │\n",
              "├──────────────────────────────────────┼─────────────────────────────┼─────────────────┤\n",
              "│ dense (\u001b[38;5;33mDense\u001b[0m)                        │ (\u001b[38;5;45mNone\u001b[0m, \u001b[38;5;34m128\u001b[0m)                 │         \u001b[38;5;34m100,480\u001b[0m │\n",
              "├──────────────────────────────────────┼─────────────────────────────┼─────────────────┤\n",
              "│ dense_1 (\u001b[38;5;33mDense\u001b[0m)                      │ (\u001b[38;5;45mNone\u001b[0m, \u001b[38;5;34m10\u001b[0m)                  │           \u001b[38;5;34m1,290\u001b[0m │\n",
              "└──────────────────────────────────────┴─────────────────────────────┴─────────────────┘\n"
            ],
            "text/html": [
              "<pre style=\"white-space:pre;overflow-x:auto;line-height:normal;font-family:Menlo,'DejaVu Sans Mono',consolas,'Courier New',monospace\">┏━━━━━━━━━━━━━━━━━━━━━━━━━━━━━━━━━━━━━━┳━━━━━━━━━━━━━━━━━━━━━━━━━━━━━┳━━━━━━━━━━━━━━━━━┓\n",
              "┃<span style=\"font-weight: bold\"> Layer (type)                         </span>┃<span style=\"font-weight: bold\"> Output Shape                </span>┃<span style=\"font-weight: bold\">         Param # </span>┃\n",
              "┡━━━━━━━━━━━━━━━━━━━━━━━━━━━━━━━━━━━━━━╇━━━━━━━━━━━━━━━━━━━━━━━━━━━━━╇━━━━━━━━━━━━━━━━━┩\n",
              "│ flatten_1 (<span style=\"color: #0087ff; text-decoration-color: #0087ff\">Flatten</span>)                  │ (<span style=\"color: #00d7ff; text-decoration-color: #00d7ff\">None</span>, <span style=\"color: #00af00; text-decoration-color: #00af00\">784</span>)                 │               <span style=\"color: #00af00; text-decoration-color: #00af00\">0</span> │\n",
              "├──────────────────────────────────────┼─────────────────────────────┼─────────────────┤\n",
              "│ dense (<span style=\"color: #0087ff; text-decoration-color: #0087ff\">Dense</span>)                        │ (<span style=\"color: #00d7ff; text-decoration-color: #00d7ff\">None</span>, <span style=\"color: #00af00; text-decoration-color: #00af00\">128</span>)                 │         <span style=\"color: #00af00; text-decoration-color: #00af00\">100,480</span> │\n",
              "├──────────────────────────────────────┼─────────────────────────────┼─────────────────┤\n",
              "│ dense_1 (<span style=\"color: #0087ff; text-decoration-color: #0087ff\">Dense</span>)                      │ (<span style=\"color: #00d7ff; text-decoration-color: #00d7ff\">None</span>, <span style=\"color: #00af00; text-decoration-color: #00af00\">10</span>)                  │           <span style=\"color: #00af00; text-decoration-color: #00af00\">1,290</span> │\n",
              "└──────────────────────────────────────┴─────────────────────────────┴─────────────────┘\n",
              "</pre>\n"
            ]
          },
          "metadata": {}
        },
        {
          "output_type": "display_data",
          "data": {
            "text/plain": [
              "\u001b[1m Total params: \u001b[0m\u001b[38;5;34m101,770\u001b[0m (397.54 KB)\n"
            ],
            "text/html": [
              "<pre style=\"white-space:pre;overflow-x:auto;line-height:normal;font-family:Menlo,'DejaVu Sans Mono',consolas,'Courier New',monospace\"><span style=\"font-weight: bold\"> Total params: </span><span style=\"color: #00af00; text-decoration-color: #00af00\">101,770</span> (397.54 KB)\n",
              "</pre>\n"
            ]
          },
          "metadata": {}
        },
        {
          "output_type": "display_data",
          "data": {
            "text/plain": [
              "\u001b[1m Trainable params: \u001b[0m\u001b[38;5;34m101,770\u001b[0m (397.54 KB)\n"
            ],
            "text/html": [
              "<pre style=\"white-space:pre;overflow-x:auto;line-height:normal;font-family:Menlo,'DejaVu Sans Mono',consolas,'Courier New',monospace\"><span style=\"font-weight: bold\"> Trainable params: </span><span style=\"color: #00af00; text-decoration-color: #00af00\">101,770</span> (397.54 KB)\n",
              "</pre>\n"
            ]
          },
          "metadata": {}
        },
        {
          "output_type": "display_data",
          "data": {
            "text/plain": [
              "\u001b[1m Non-trainable params: \u001b[0m\u001b[38;5;34m0\u001b[0m (0.00 B)\n"
            ],
            "text/html": [
              "<pre style=\"white-space:pre;overflow-x:auto;line-height:normal;font-family:Menlo,'DejaVu Sans Mono',consolas,'Courier New',monospace\"><span style=\"font-weight: bold\"> Non-trainable params: </span><span style=\"color: #00af00; text-decoration-color: #00af00\">0</span> (0.00 B)\n",
              "</pre>\n"
            ]
          },
          "metadata": {}
        }
      ]
    },
    {
      "cell_type": "code",
      "source": [
        "model.get_weights()"
      ],
      "metadata": {
        "colab": {
          "base_uri": "https://localhost:8080/"
        },
        "id": "JJbauGJw2BN3",
        "outputId": "ac316c65-753a-4c7d-82ef-1ade3dce7f94"
      },
      "execution_count": null,
      "outputs": [
        {
          "output_type": "execute_result",
          "data": {
            "text/plain": [
              "[array([[-0.02876359, -0.00593448,  0.0334102 , ...,  0.04478095,\n",
              "         -0.01040804, -0.05322374],\n",
              "        [ 0.06901176, -0.04213473, -0.06866829, ...,  0.03331633,\n",
              "         -0.06948768, -0.06425183],\n",
              "        [ 0.01755958,  0.05578933,  0.06849193, ..., -0.06009407,\n",
              "          0.05659164,  0.03542829],\n",
              "        ...,\n",
              "        [ 0.04417225,  0.05383583,  0.05589875, ...,  0.04885159,\n",
              "         -0.0516029 , -0.07876859],\n",
              "        [-0.04707872,  0.06099071,  0.03832031, ...,  0.08059116,\n",
              "         -0.00117826,  0.05632638],\n",
              "        [ 0.02016851, -0.05698892,  0.04722854, ..., -0.02177382,\n",
              "         -0.07883867,  0.04027721]], dtype=float32),\n",
              " array([0., 0., 0., 0., 0., 0., 0., 0., 0., 0., 0., 0., 0., 0., 0., 0., 0.,\n",
              "        0., 0., 0., 0., 0., 0., 0., 0., 0., 0., 0., 0., 0., 0., 0., 0., 0.,\n",
              "        0., 0., 0., 0., 0., 0., 0., 0., 0., 0., 0., 0., 0., 0., 0., 0., 0.,\n",
              "        0., 0., 0., 0., 0., 0., 0., 0., 0., 0., 0., 0., 0., 0., 0., 0., 0.,\n",
              "        0., 0., 0., 0., 0., 0., 0., 0., 0., 0., 0., 0., 0., 0., 0., 0., 0.,\n",
              "        0., 0., 0., 0., 0., 0., 0., 0., 0., 0., 0., 0., 0., 0., 0., 0., 0.,\n",
              "        0., 0., 0., 0., 0., 0., 0., 0., 0., 0., 0., 0., 0., 0., 0., 0., 0.,\n",
              "        0., 0., 0., 0., 0., 0., 0., 0., 0.], dtype=float32),\n",
              " array([[-0.18260984, -0.18212374,  0.05155288, ..., -0.13604763,\n",
              "          0.1426933 ,  0.00957347],\n",
              "        [-0.02964558, -0.13890746, -0.18656427, ...,  0.00089122,\n",
              "          0.09219159, -0.05998188],\n",
              "        [ 0.14152513,  0.0501058 , -0.15918508, ...,  0.04896598,\n",
              "          0.07079504, -0.06216107],\n",
              "        ...,\n",
              "        [ 0.08864327, -0.03672272,  0.18029536, ...,  0.20493586,\n",
              "         -0.04198109, -0.1306783 ],\n",
              "        [-0.07363993,  0.15489121,  0.04635768, ...,  0.10361908,\n",
              "          0.10466029, -0.02139743],\n",
              "        [ 0.02286339,  0.08337142, -0.11414571, ..., -0.05358611,\n",
              "         -0.1369476 , -0.00111111]], dtype=float32),\n",
              " array([0., 0., 0., 0., 0., 0., 0., 0., 0., 0.], dtype=float32)]"
            ]
          },
          "metadata": {},
          "execution_count": 22
        }
      ]
    },
    {
      "cell_type": "code",
      "source": [
        "model.compile(optimizer = 'adam',loss = 'sparse_categorical_crossentropy',metrics = ['accuracy'])"
      ],
      "metadata": {
        "id": "SlKWIAGZ2cWR"
      },
      "execution_count": null,
      "outputs": []
    },
    {
      "cell_type": "code",
      "source": [
        "model.fit(training_images,training_labels,epochs = 5)"
      ],
      "metadata": {
        "colab": {
          "base_uri": "https://localhost:8080/"
        },
        "id": "Sb0Y-TF12mdJ",
        "outputId": "e1accd09-4ddd-4400-a00e-6c47d44c8983"
      },
      "execution_count": null,
      "outputs": [
        {
          "output_type": "stream",
          "name": "stdout",
          "text": [
            "Epoch 1/5\n",
            "\u001b[1m1875/1875\u001b[0m \u001b[32m━━━━━━━━━━━━━━━━━━━━\u001b[0m\u001b[37m\u001b[0m \u001b[1m9s\u001b[0m 4ms/step - accuracy: 0.7859 - loss: 0.6245\n",
            "Epoch 2/5\n",
            "\u001b[1m1875/1875\u001b[0m \u001b[32m━━━━━━━━━━━━━━━━━━━━\u001b[0m\u001b[37m\u001b[0m \u001b[1m9s\u001b[0m 5ms/step - accuracy: 0.8644 - loss: 0.3772\n",
            "Epoch 3/5\n",
            "\u001b[1m1875/1875\u001b[0m \u001b[32m━━━━━━━━━━━━━━━━━━━━\u001b[0m\u001b[37m\u001b[0m \u001b[1m10s\u001b[0m 5ms/step - accuracy: 0.8797 - loss: 0.3357\n",
            "Epoch 4/5\n",
            "\u001b[1m1875/1875\u001b[0m \u001b[32m━━━━━━━━━━━━━━━━━━━━\u001b[0m\u001b[37m\u001b[0m \u001b[1m7s\u001b[0m 4ms/step - accuracy: 0.8856 - loss: 0.3134\n",
            "Epoch 5/5\n",
            "\u001b[1m1875/1875\u001b[0m \u001b[32m━━━━━━━━━━━━━━━━━━━━\u001b[0m\u001b[37m\u001b[0m \u001b[1m11s\u001b[0m 4ms/step - accuracy: 0.8899 - loss: 0.2973\n"
          ]
        },
        {
          "output_type": "execute_result",
          "data": {
            "text/plain": [
              "<keras.src.callbacks.history.History at 0x7dbad76868c0>"
            ]
          },
          "metadata": {},
          "execution_count": 25
        }
      ]
    },
    {
      "cell_type": "code",
      "source": [
        "model.evaluate(test_images,test_labels)"
      ],
      "metadata": {
        "colab": {
          "base_uri": "https://localhost:8080/"
        },
        "id": "MxaeBaGp219b",
        "outputId": "ec0fed6d-e026-4400-a860-a66667dd6a33"
      },
      "execution_count": null,
      "outputs": [
        {
          "output_type": "stream",
          "name": "stdout",
          "text": [
            "\u001b[1m313/313\u001b[0m \u001b[32m━━━━━━━━━━━━━━━━━━━━\u001b[0m\u001b[37m\u001b[0m \u001b[1m1s\u001b[0m 3ms/step - accuracy: 0.8760 - loss: 0.3512\n"
          ]
        },
        {
          "output_type": "execute_result",
          "data": {
            "text/plain": [
              "[0.3495525121688843, 0.8751000165939331]"
            ]
          },
          "metadata": {},
          "execution_count": 26
        }
      ]
    },
    {
      "cell_type": "code",
      "source": [
        "classifications = model.predict(test_images)"
      ],
      "metadata": {
        "colab": {
          "base_uri": "https://localhost:8080/"
        },
        "id": "AHEn87Pm3ZPv",
        "outputId": "4e90492c-3f5f-403b-a13b-7eb9f4b7b1bf"
      },
      "execution_count": null,
      "outputs": [
        {
          "output_type": "stream",
          "name": "stdout",
          "text": [
            "\u001b[1m313/313\u001b[0m \u001b[32m━━━━━━━━━━━━━━━━━━━━\u001b[0m\u001b[37m\u001b[0m \u001b[1m1s\u001b[0m 3ms/step\n"
          ]
        }
      ]
    },
    {
      "cell_type": "code",
      "source": [
        "classifications.shape"
      ],
      "metadata": {
        "colab": {
          "base_uri": "https://localhost:8080/"
        },
        "id": "la8UGq__3waw",
        "outputId": "dbe25102-3d1e-436b-b840-b6ab9fde241a"
      },
      "execution_count": null,
      "outputs": [
        {
          "output_type": "execute_result",
          "data": {
            "text/plain": [
              "(10000, 10)"
            ]
          },
          "metadata": {},
          "execution_count": 28
        }
      ]
    },
    {
      "cell_type": "code",
      "source": [
        "# prompt: set max of classifications[0] to 1 and the rest to 0\n",
        "\n",
        "import numpy as np\n",
        "for i in range(len(classifications)):\n",
        "  index = np.argmax(classifications[i])\n",
        "  classifications[i] = np.zeros(10)\n",
        "  classifications[i][index] = 1\n",
        "\n",
        "indices_with_one = []\n",
        "for row in classifications:\n",
        "    index = np.where(row == 1)[0][0]  # Find index of element with value 1 in each row\n",
        "    indices_with_one.append(index)\n"
      ],
      "metadata": {
        "id": "bp0OjdMC6MhL"
      },
      "execution_count": null,
      "outputs": []
    },
    {
      "cell_type": "code",
      "source": [
        "incorrect = []\n",
        "for i in range(len(test_labels)):\n",
        "  if test_labels[i] != indices_with_one[i]:\n",
        "    incorrect.append(i)\n",
        "\n",
        "print(incorrect)\n",
        "print(len(incorrect))"
      ],
      "metadata": {
        "colab": {
          "base_uri": "https://localhost:8080/"
        },
        "id": "GVwmzdcV9rGz",
        "outputId": "26a230d8-5b39-4d9e-83e8-4fe3a1556862"
      },
      "execution_count": null,
      "outputs": [
        {
          "output_type": "stream",
          "name": "stdout",
          "text": [
            "[12, 17, 23, 25, 40, 42, 49, 51, 66, 68, 89, 103, 107, 127, 135, 141, 147, 150, 151, 153, 192, 222, 239, 241, 244, 247, 249, 282, 285, 313, 316, 320, 324, 325, 352, 359, 361, 367, 374, 378, 381, 382, 396, 404, 406, 409, 413, 419, 441, 444, 454, 457, 460, 471, 474, 476, 480, 490, 491, 526, 527, 529, 548, 562, 563, 565, 569, 572, 577, 578, 581, 586, 594, 595, 623, 634, 635, 639, 663, 664, 669, 670, 685, 688, 689, 697, 701, 711, 722, 725, 732, 737, 753, 760, 761, 779, 787, 800, 801, 805, 823, 851, 860, 881, 890, 902, 905, 907, 921, 926, 935, 937, 939, 956, 965, 966, 967, 976, 979, 985, 993, 994, 1000, 1004, 1005, 1025, 1055, 1064, 1066, 1096, 1101, 1104, 1107, 1111, 1121, 1131, 1139, 1152, 1158, 1160, 1162, 1174, 1192, 1207, 1210, 1218, 1223, 1231, 1235, 1251, 1254, 1294, 1297, 1300, 1305, 1315, 1326, 1329, 1334, 1336, 1339, 1343, 1353, 1356, 1374, 1377, 1388, 1396, 1399, 1408, 1425, 1449, 1455, 1462, 1469, 1471, 1495, 1496, 1501, 1504, 1513, 1522, 1527, 1528, 1533, 1539, 1562, 1567, 1586, 1593, 1620, 1624, 1632, 1643, 1645, 1650, 1659, 1662, 1665, 1671, 1686, 1701, 1705, 1706, 1712, 1731, 1732, 1743, 1744, 1771, 1792, 1811, 1814, 1817, 1825, 1836, 1846, 1852, 1856, 1861, 1867, 1895, 1917, 1921, 1922, 1930, 1942, 1943, 1945, 1953, 1954, 1955, 1957, 1964, 1968, 1980, 1990, 2001, 2006, 2016, 2020, 2021, 2022, 2037, 2039, 2042, 2053, 2064, 2069, 2071, 2073, 2076, 2085, 2110, 2138, 2144, 2162, 2189, 2191, 2195, 2202, 2224, 2236, 2243, 2247, 2272, 2278, 2290, 2293, 2299, 2311, 2312, 2316, 2318, 2320, 2332, 2337, 2351, 2373, 2376, 2396, 2397, 2398, 2408, 2417, 2421, 2425, 2447, 2451, 2462, 2464, 2469, 2476, 2478, 2487, 2491, 2500, 2503, 2506, 2507, 2509, 2527, 2540, 2551, 2559, 2570, 2571, 2573, 2578, 2580, 2588, 2591, 2599, 2608, 2615, 2617, 2629, 2653, 2659, 2661, 2670, 2671, 2681, 2685, 2688, 2690, 2695, 2698, 2717, 2721, 2732, 2733, 2734, 2752, 2772, 2776, 2779, 2798, 2805, 2817, 2839, 2840, 2842, 2843, 2856, 2869, 2870, 2882, 2894, 2897, 2898, 2905, 2909, 2910, 2914, 2919, 2920, 2935, 2940, 2942, 2951, 2953, 2965, 2973, 2975, 2985, 2986, 2997, 2998, 3004, 3008, 3019, 3032, 3045, 3058, 3069, 3071, 3080, 3081, 3082, 3084, 3087, 3106, 3116, 3132, 3174, 3176, 3179, 3188, 3198, 3201, 3205, 3209, 3215, 3220, 3224, 3228, 3229, 3232, 3240, 3253, 3255, 3258, 3262, 3265, 3281, 3282, 3286, 3290, 3293, 3297, 3311, 3313, 3322, 3323, 3332, 3334, 3338, 3342, 3344, 3365, 3370, 3386, 3393, 3401, 3415, 3416, 3429, 3441, 3451, 3454, 3457, 3479, 3489, 3491, 3496, 3497, 3509, 3531, 3532, 3535, 3540, 3545, 3553, 3554, 3568, 3575, 3598, 3625, 3626, 3639, 3643, 3658, 3669, 3673, 3674, 3690, 3700, 3706, 3714, 3716, 3730, 3731, 3733, 3741, 3745, 3765, 3767, 3779, 3787, 3789, 3800, 3804, 3805, 3807, 3811, 3816, 3829, 3830, 3839, 3861, 3864, 3866, 3871, 3876, 3880, 3896, 3909, 3929, 3937, 3938, 3940, 3953, 3954, 3974, 3983, 3987, 3988, 3999, 4010, 4019, 4021, 4025, 4037, 4040, 4041, 4058, 4067, 4071, 4079, 4084, 4088, 4092, 4104, 4106, 4109, 4124, 4127, 4138, 4140, 4142, 4143, 4148, 4152, 4153, 4154, 4159, 4160, 4166, 4169, 4192, 4193, 4194, 4196, 4213, 4217, 4224, 4231, 4233, 4251, 4267, 4271, 4272, 4274, 4280, 4299, 4300, 4307, 4329, 4362, 4381, 4388, 4394, 4399, 4404, 4405, 4416, 4417, 4420, 4451, 4455, 4456, 4460, 4471, 4481, 4484, 4495, 4500, 4501, 4505, 4507, 4526, 4542, 4559, 4566, 4568, 4569, 4585, 4590, 4608, 4641, 4645, 4646, 4649, 4652, 4658, 4662, 4668, 4672, 4674, 4678, 4685, 4687, 4692, 4693, 4705, 4708, 4711, 4726, 4727, 4742, 4746, 4775, 4784, 4796, 4803, 4817, 4823, 4828, 4829, 4839, 4846, 4850, 4852, 4859, 4880, 4886, 4896, 4897, 4907, 4922, 4924, 4934, 4936, 4941, 4947, 4948, 4956, 4965, 4979, 4981, 4995, 5002, 5006, 5009, 5015, 5028, 5030, 5032, 5036, 5040, 5046, 5052, 5066, 5069, 5070, 5077, 5082, 5090, 5113, 5121, 5129, 5133, 5144, 5148, 5155, 5161, 5164, 5167, 5168, 5172, 5184, 5186, 5192, 5197, 5204, 5210, 5228, 5235, 5248, 5249, 5254, 5255, 5257, 5266, 5284, 5297, 5307, 5316, 5317, 5327, 5334, 5336, 5338, 5345, 5349, 5381, 5382, 5383, 5395, 5397, 5424, 5429, 5440, 5441, 5442, 5450, 5459, 5468, 5469, 5470, 5471, 5474, 5476, 5482, 5488, 5497, 5504, 5511, 5512, 5520, 5521, 5522, 5525, 5530, 5533, 5546, 5561, 5563, 5568, 5569, 5576, 5583, 5592, 5594, 5596, 5597, 5601, 5604, 5605, 5623, 5626, 5634, 5648, 5654, 5657, 5674, 5689, 5695, 5701, 5703, 5713, 5721, 5745, 5746, 5749, 5752, 5762, 5763, 5773, 5792, 5795, 5796, 5806, 5816, 5820, 5826, 5849, 5852, 5853, 5881, 5899, 5938, 5946, 5966, 5968, 5974, 5977, 5987, 5993, 6002, 6006, 6007, 6008, 6012, 6020, 6023, 6024, 6030, 6032, 6037, 6061, 6065, 6076, 6094, 6096, 6103, 6106, 6117, 6127, 6138, 6147, 6156, 6160, 6163, 6168, 6175, 6184, 6207, 6213, 6230, 6233, 6234, 6240, 6241, 6242, 6245, 6248, 6254, 6258, 6270, 6285, 6286, 6293, 6294, 6329, 6331, 6344, 6358, 6365, 6368, 6384, 6400, 6402, 6407, 6416, 6420, 6433, 6437, 6441, 6464, 6474, 6475, 6478, 6485, 6488, 6491, 6500, 6504, 6511, 6513, 6514, 6524, 6531, 6539, 6542, 6547, 6548, 6558, 6559, 6561, 6565, 6569, 6584, 6596, 6604, 6614, 6626, 6634, 6648, 6649, 6655, 6656, 6658, 6667, 6679, 6685, 6688, 6699, 6701, 6709, 6715, 6718, 6720, 6727, 6733, 6770, 6797, 6799, 6801, 6816, 6826, 6829, 6844, 6855, 6859, 6861, 6868, 6874, 6875, 6897, 6899, 6908, 6926, 6927, 6928, 6958, 6964, 6984, 6994, 6997, 7004, 7025, 7026, 7028, 7042, 7047, 7049, 7059, 7062, 7068, 7069, 7094, 7095, 7109, 7112, 7114, 7125, 7130, 7133, 7137, 7157, 7167, 7177, 7182, 7188, 7189, 7195, 7210, 7211, 7221, 7228, 7233, 7244, 7249, 7258, 7262, 7267, 7278, 7288, 7303, 7305, 7314, 7332, 7334, 7345, 7349, 7369, 7389, 7393, 7416, 7424, 7425, 7450, 7495, 7500, 7509, 7527, 7551, 7555, 7571, 7583, 7587, 7596, 7602, 7604, 7635, 7638, 7646, 7664, 7683, 7703, 7707, 7711, 7714, 7719, 7723, 7736, 7778, 7779, 7800, 7803, 7812, 7818, 7821, 7822, 7829, 7831, 7847, 7867, 7868, 7876, 7884, 7890, 7906, 7910, 7914, 7915, 7924, 7931, 7936, 7948, 7952, 7958, 7959, 7971, 7986, 7992, 7998, 8001, 8005, 8007, 8009, 8033, 8039, 8054, 8059, 8069, 8074, 8085, 8091, 8093, 8111, 8114, 8116, 8132, 8140, 8148, 8150, 8154, 8156, 8161, 8162, 8191, 8193, 8197, 8202, 8205, 8208, 8217, 8226, 8237, 8259, 8260, 8269, 8275, 8287, 8292, 8297, 8324, 8348, 8373, 8375, 8406, 8425, 8429, 8436, 8457, 8463, 8470, 8471, 8476, 8485, 8505, 8512, 8519, 8525, 8532, 8536, 8538, 8548, 8556, 8557, 8568, 8569, 8580, 8598, 8607, 8609, 8617, 8618, 8621, 8633, 8649, 8658, 8659, 8664, 8669, 8705, 8706, 8710, 8714, 8715, 8718, 8725, 8745, 8757, 8758, 8762, 8763, 8764, 8768, 8774, 8782, 8784, 8799, 8801, 8804, 8806, 8814, 8827, 8832, 8858, 8869, 8877, 8879, 8906, 8914, 8919, 8920, 8933, 8939, 8946, 8950, 8952, 8958, 8962, 8969, 8997, 9017, 9022, 9032, 9057, 9059, 9062, 9071, 9073, 9074, 9075, 9091, 9094, 9095, 9114, 9122, 9126, 9133, 9140, 9148, 9154, 9160, 9165, 9179, 9180, 9183, 9211, 9218, 9222, 9227, 9237, 9247, 9251, 9256, 9276, 9280, 9291, 9292, 9297, 9306, 9325, 9337, 9344, 9349, 9358, 9362, 9366, 9375, 9398, 9416, 9441, 9445, 9449, 9480, 9484, 9485, 9487, 9496, 9499, 9512, 9524, 9531, 9537, 9548, 9554, 9567, 9571, 9573, 9574, 9577, 9582, 9590, 9596, 9601, 9602, 9604, 9614, 9622, 9632, 9644, 9647, 9662, 9666, 9668, 9684, 9687, 9690, 9692, 9701, 9705, 9706, 9724, 9729, 9748, 9779, 9809, 9831, 9835, 9852, 9856, 9859, 9865, 9880, 9891, 9904, 9913, 9916, 9917, 9941, 9946, 9947, 9949, 9953, 9957, 9961, 9964, 9972, 9977, 9979, 9985, 9989]\n",
            "1249\n"
          ]
        }
      ]
    },
    {
      "cell_type": "code",
      "source": [
        "import numpy as np\n",
        "np.set_printoptions(suppress=True)\n",
        "k = 12\n",
        "plt.imshow(test_images[k])\n",
        "print(\"the test image is\")\n",
        "print(test_images[k])\n",
        "print(\"the test label is\")\n",
        "print(test_labels[k])\n",
        "print(\"the classification is\")\n",
        "print(classifications[k])\n",
        "print(\"the class value is\")\n",
        "print(indices_with_one[k])"
      ],
      "metadata": {
        "colab": {
          "base_uri": "https://localhost:8080/",
          "height": 1000
        },
        "id": "XFdLcFhk3-8q",
        "outputId": "5ea6555c-7fc8-4986-f27d-e4e8c30daee4"
      },
      "execution_count": null,
      "outputs": [
        {
          "output_type": "stream",
          "name": "stdout",
          "text": [
            "the test image is\n",
            "[[0.         0.         0.         0.         0.         0.\n",
            "  0.         0.         0.         0.         0.         0.\n",
            "  0.         0.         0.         0.         0.         0.\n",
            "  0.         0.         0.         0.         0.         0.\n",
            "  0.         0.         0.         0.        ]\n",
            " [0.         0.         0.         0.         0.         0.\n",
            "  0.         0.         0.         0.         0.         0.\n",
            "  0.         0.         0.         0.         0.         0.\n",
            "  0.         0.         0.         0.         0.         0.\n",
            "  0.         0.         0.         0.        ]\n",
            " [0.         0.         0.         0.         0.         0.\n",
            "  0.         0.         0.         0.         0.         0.\n",
            "  0.         0.         0.         0.         0.         0.\n",
            "  0.         0.         0.         0.         0.         0.\n",
            "  0.         0.         0.         0.        ]\n",
            " [0.         0.         0.         0.         0.         0.\n",
            "  0.         0.         0.         0.         0.         0.\n",
            "  0.         0.         0.         0.         0.         0.\n",
            "  0.         0.         0.         0.         0.         0.\n",
            "  0.         0.         0.         0.        ]\n",
            " [0.         0.         0.         0.         0.         0.\n",
            "  0.         0.         0.         0.         0.         0.\n",
            "  0.         0.         0.         0.         0.         0.\n",
            "  0.         0.         0.         0.         0.         0.\n",
            "  0.         0.         0.         0.        ]\n",
            " [0.         0.         0.         0.         0.         0.\n",
            "  0.         0.         0.         0.         0.         0.\n",
            "  0.         0.         0.         0.         0.         0.\n",
            "  0.         0.         0.         0.         0.         0.\n",
            "  0.         0.         0.         0.        ]\n",
            " [0.         0.         0.         0.         0.         0.\n",
            "  0.         0.         0.         0.         0.         0.\n",
            "  0.         0.         0.         0.         0.         0.\n",
            "  0.         0.         0.         0.         0.         0.\n",
            "  0.         0.         0.         0.        ]\n",
            " [0.         0.         0.         0.         0.         0.\n",
            "  0.         0.         0.         0.         0.         0.\n",
            "  0.         0.         0.         0.         0.         0.\n",
            "  0.         0.         0.         0.         0.         0.\n",
            "  0.         0.         0.         0.        ]\n",
            " [0.         0.         0.         0.         0.         0.\n",
            "  0.         0.         0.         0.         0.         0.\n",
            "  0.         0.         0.         0.         0.         0.\n",
            "  0.         0.         0.         0.         0.         0.\n",
            "  0.         0.         0.         0.        ]\n",
            " [0.         0.         0.         0.         0.         0.\n",
            "  0.         0.         0.         0.         0.         0.41568627\n",
            "  0.58823529 0.         0.         0.         0.00392157 0.\n",
            "  0.         0.         0.         0.         0.         0.\n",
            "  0.         0.         0.         0.        ]\n",
            " [0.         0.03529412 0.         0.         0.03529412 0.01176471\n",
            "  0.01176471 0.01176471 0.         0.         0.29411765 0.51764706\n",
            "  0.50196078 0.63529412 0.11372549 0.         0.         0.\n",
            "  0.01176471 0.01176471 0.         0.         0.         0.\n",
            "  0.         0.         0.         0.        ]\n",
            " [0.         0.67058824 0.24705882 0.         0.         0.\n",
            "  0.         0.         0.         0.         0.70980392 0.50196078\n",
            "  0.47843137 0.5254902  0.45490196 0.36862745 0.05098039 0.\n",
            "  0.         0.01176471 0.00392157 0.00392157 0.00392157 0.00392157\n",
            "  0.         0.         0.         0.        ]\n",
            " [0.04313725 0.78039216 0.54901961 0.28627451 0.11372549 0.04313725\n",
            "  0.00392157 0.01176471 0.12941176 0.50980392 0.61960784 0.42352941\n",
            "  0.7254902  0.41568627 0.47843137 0.65882353 0.5254902  0.39215686\n",
            "  0.12156863 0.         0.         0.         0.         0.01176471\n",
            "  0.01960784 0.01176471 0.         0.        ]\n",
            " [0.21568627 0.78039216 0.59607843 0.64313725 0.4627451  0.43921569\n",
            "  0.41568627 0.55686275 0.73333333 0.75686275 0.51764706 0.61960784\n",
            "  0.44705882 0.37647059 0.39215686 0.37647059 0.4627451  0.54117647\n",
            "  0.61176471 0.45490196 0.28627451 0.08235294 0.         0.\n",
            "  0.         0.         0.         0.        ]\n",
            " [0.27843137 0.85098039 0.58039216 0.70196078 0.78039216 0.70980392\n",
            "  0.73333333 0.67843137 0.50980392 0.36078431 0.35294118 0.34509804\n",
            "  0.42352941 0.41568627 0.34509804 0.41568627 0.42352941 0.42352941\n",
            "  0.42352941 0.47843137 0.5254902  0.49411765 0.45490196 0.39215686\n",
            "  0.27058824 0.18431373 0.02745098 0.        ]\n",
            " [0.23137255 1.         0.47058824 0.45490196 0.5254902  0.55686275\n",
            "  0.49411765 0.4627451  0.49411765 0.54117647 0.54117647 0.49411765\n",
            "  0.45490196 0.47843137 0.50980392 0.48627451 0.43137255 0.45490196\n",
            "  0.50980392 0.43137255 0.40784314 0.40784314 0.43921569 0.47843137\n",
            "  0.49411765 0.45490196 0.67058824 0.30980392]\n",
            " [0.54117647 0.89803922 0.57254902 0.62745098 0.49411765 0.40784314\n",
            "  0.42352941 0.5254902  0.54901961 0.56470588 0.56470588 0.55686275\n",
            "  0.54901961 0.53333333 0.44705882 0.42352941 0.36862745 0.36862745\n",
            "  0.41568627 0.3254902  0.3372549  0.36078431 0.37647059 0.40784314\n",
            "  0.4627451  0.55686275 0.66666667 0.75686275]\n",
            " [0.67843137 0.76470588 0.4        0.57254902 0.60392157 0.59607843\n",
            "  0.55686275 0.56470588 0.56470588 0.57254902 0.59607843 0.61960784\n",
            "  0.61176471 0.58823529 0.61176471 0.58823529 0.54901961 0.53333333\n",
            "  0.53333333 0.49411765 0.50196078 0.54901961 0.61176471 0.66666667\n",
            "  0.61960784 0.65098039 0.81176471 0.8745098 ]\n",
            " [0.64313725 0.98431373 0.78823529 0.75686275 0.78039216 0.81960784\n",
            "  0.76470588 0.68627451 0.73333333 0.74117647 0.74117647 0.73333333\n",
            "  0.71764706 0.70196078 0.69411765 0.67058824 0.67058824 0.65098039\n",
            "  0.60392157 0.61960784 0.65882353 0.70980392 0.74117647 0.76470588\n",
            "  0.74901961 0.76470588 0.84313725 0.36862745]\n",
            " [0.06666667 0.5254902  0.45490196 0.53333333 0.55686275 0.53333333\n",
            "  0.57254902 0.64313725 0.63529412 0.65098039 0.64313725 0.62745098\n",
            "  0.63529412 0.67058824 0.66666667 0.64313725 0.66666667 0.64313725\n",
            "  0.58823529 0.59607843 0.60392157 0.58823529 0.5254902  0.49411765\n",
            "  0.42352941 0.27058824 0.         0.        ]\n",
            " [0.         0.         0.         0.         0.         0.\n",
            "  0.         0.         0.         0.         0.         0.\n",
            "  0.         0.         0.         0.         0.         0.\n",
            "  0.         0.         0.         0.         0.         0.\n",
            "  0.         0.         0.         0.        ]\n",
            " [0.         0.         0.         0.         0.         0.\n",
            "  0.         0.         0.         0.         0.         0.\n",
            "  0.         0.         0.         0.         0.         0.\n",
            "  0.         0.         0.         0.         0.         0.\n",
            "  0.         0.         0.         0.        ]\n",
            " [0.         0.         0.         0.         0.         0.\n",
            "  0.         0.         0.         0.         0.         0.\n",
            "  0.         0.         0.         0.         0.         0.\n",
            "  0.         0.         0.         0.         0.         0.\n",
            "  0.         0.         0.         0.        ]\n",
            " [0.         0.         0.         0.         0.         0.\n",
            "  0.         0.         0.         0.         0.         0.\n",
            "  0.         0.         0.         0.         0.         0.\n",
            "  0.         0.         0.         0.         0.         0.\n",
            "  0.         0.         0.         0.        ]\n",
            " [0.         0.         0.         0.         0.         0.\n",
            "  0.         0.         0.         0.         0.         0.\n",
            "  0.         0.         0.         0.         0.         0.\n",
            "  0.         0.         0.         0.         0.         0.\n",
            "  0.         0.         0.         0.        ]\n",
            " [0.         0.         0.         0.         0.         0.\n",
            "  0.         0.         0.         0.         0.         0.\n",
            "  0.         0.         0.         0.         0.         0.\n",
            "  0.         0.         0.         0.         0.         0.\n",
            "  0.         0.         0.         0.        ]\n",
            " [0.         0.         0.         0.         0.         0.\n",
            "  0.         0.         0.         0.         0.         0.\n",
            "  0.         0.         0.         0.         0.         0.\n",
            "  0.         0.         0.         0.         0.         0.\n",
            "  0.         0.         0.         0.        ]\n",
            " [0.         0.         0.         0.         0.         0.\n",
            "  0.         0.         0.         0.         0.         0.\n",
            "  0.         0.         0.         0.         0.         0.\n",
            "  0.         0.         0.         0.         0.         0.\n",
            "  0.         0.         0.         0.        ]]\n",
            "the test label is\n",
            "7\n",
            "the classification is\n",
            "[0. 0. 0. 0. 0. 1. 0. 0. 0. 0.]\n",
            "the class value is\n",
            "5\n"
          ]
        },
        {
          "output_type": "display_data",
          "data": {
            "text/plain": [
              "<Figure size 640x480 with 1 Axes>"
            ],
            "image/png": "[encoded data removed]"
          },
          "metadata": {}
        }
      ]
    },
    {
      "cell_type": "code",
      "source": [],
      "metadata": {
        "id": "MS12RLHN9TR6"
      },
      "execution_count": null,
      "outputs": []
    }
  ]
}